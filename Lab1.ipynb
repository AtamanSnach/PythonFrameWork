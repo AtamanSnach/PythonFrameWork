{
 "cells": [
  {
   "cell_type": "markdown",
   "metadata": {},
   "source": [
    "## Country: [Greece](https://uk.wikipedia.org/wiki/Греція)\n",
    "\n",
    "### Основні характеристики:  \n",
    "#### - Площа: 131 957 км²\n",
    "#### - Чисельність населення: 10 768 477 осіб\n",
    "#### - Густота населення: 82 осіб/км²\n",
    "#### - Столиця: Атени\n",
    "#### - Релігія\n",
    "  * Православ'я - 98%\n",
    "  * Іслам - 1,2%\n",
    "  * Католицтво - 0,3%\n",
    "  * Протестантизм - 0,1%\n",
    "***\n",
    "### [Населення](https://uk.wikipedia.org/wiki/Греція#Населення)\n",
    "\n",
    "| Нація   | Процентне відношення |\n",
    "| ------- | -------------------- |\n",
    "| греки   | 93,8 %               | \n",
    "| албанці | 4.3 %                |\n",
    "| інші    | 1.9 %                |\n",
    "\n",
    "<h6> Вікова піраміда населення Греції <h6>\n",
    "\n",
    "[![Вікова піраміда населення Греції](https://upload.wikimedia.org/wikipedia/commons/thumb/d/dc/Pyramide_Grece.PNG/200px-Pyramide_Grece.PNG \"Вікова піраміда населення Греції\")](https://uk.wikipedia.org/wiki/%D0%93%D1%80%D0%B5%D1%86%D1%96%D1%8F#%D0%9D%D0%B0%D1%81%D0%B5%D0%BB%D0%B5%D0%BD%D0%BD%D1%8F) <br>\n",
    "<strong><div style=\"color:red; font-size:1em\" >Cмертність 10,6 ‰</div></strong>\n",
    "<strong><div style=\"color:green; font-size:1em\" >Народжуваність 9,34 ‰</div></strong>\n",
    "__*Рівень урбанізації: 66%*__\n",
    "\n",
    "<div style=\"color:brown\" >Головні міста держави:</div>\n",
    "\n",
    "1. Афіни (3,1 млн осіб) \n",
    "2. Салоніки (390 тис. осіб) \n",
    "16. Пірей (183 тис. осіб) \n",
    "9. Патри\n",
    "12. Іракліон \n",
    "1. Лариса\n",
    "6. Волос.\n",
    "\n",
    "<style>\n",
    ".frame{\n",
    "    color:black;\n",
    "    border:4px solid brown; \n",
    "    border-radius: 10px;\n",
    "    background: #fc0;\n",
    "    padding:20px;\n",
    "}\n",
    "</style>\n",
    "\n"
   ]
  },
  {
   "cell_type": "markdown",
   "metadata": {},
   "source": [
    "<style>\n",
    ".frame{\n",
    "    color:black;\n",
    "    border:4px solid brown; \n",
    "    border-radius: 10px;\n",
    "    background: #fc0;\n",
    "    padding:20px;\n",
    "}\n",
    "</style>\n",
    "\n",
    "<div class=\"frame\">\n",
    "    <h5>Державний устрій</h5><br>\n",
    "    <div class=\"frame\"> Форма правління: парламентська республіка. </div> <br>\n",
    "    <div class=\"frame\"> Голова держави: президент. </div> <br>\n",
    "    <div class=\"frame\"> Термін: 5 років. </div>\n",
    "</div>\n"
   ]
  },
  {
   "cell_type": "markdown",
   "metadata": {},
   "source": [
    "<img src=\"https://onlinetickets.world/upload/image/akropol_(1).jpg \">\n",
    "\n",
    "\n",
    "**Акрополь**\n",
    "\n",
    "*Історична частина стародавніх Афін, в якій розміщувалися колись основні святині міста. Сьогодні туристи можуть відвідати розташовані на вершині Акрополя знамениті античні храми і збереглися стародавні споруди.*\n",
    "\n",
    "\n",
    "<img src=\"https://onlinetickets.world/upload/image/88_(1).jpg\">\n",
    "\n",
    "<b>Парфенон</b> \n",
    "\n",
    "<i>Величний символ Афін. Парфенон – це храм, зведений на честь Афіни Парфенос. За століття свого існування храм був православною церквою, мечеттю і навіть бойовим складом.</i>\n",
    "\n",
    "<a href=\"https://tsikaviy-svit.com/цікаві-місця-о-родос-греція\">\n",
    "<img src=\"https://onlinetickets.world/upload/image/97.jpg\" alt=\"Острів Родос\">\n",
    "</a>\n",
    "\n",
    "__Острів Родос__\n",
    "\n",
    "_Сьогодні острів дуже популярний серед шанувальників активних видів спорту і морських прогулянок, але знаменитий він саме завдяки своєї історичної спадщини. По всьому острову досі розкидані тисячі стародавніх статуй і руїни античних споруд._\n",
    "\n"
   ]
  },
  {
   "cell_type": "markdown",
   "metadata": {},
   "source": [
    "<svg width=\"500\" height=\"250\" xmlns=\"http://www.w3.org/2000/svg\">\n",
    "    <g>\n",
    "        <title>background</title>\n",
    "        <rect fill= \"#ffffff\" id = \"canvas background\" height=\"602\" width=\"802\" y=\"-1\" x=\"-1\"/>\n",
    "        <g display=\"none\" overflow=\"visible\" y=\"0\" x=\"0\" height=\"100%\" width=\"100%\" id = \"canvasGrid\">\n",
    "            <rect fill = \"url(#gridpattern)\" stroke-width =\"0\" y=\"0\" x=\"0\" height=\"100%\" width=\"100%\"/>\n",
    "        </g>\n",
    "    </g>\n",
    "    <g>\n",
    "        <title>layer 1</title>\n",
    "        <rect stroke= \"#000\" id=\"svg_1\" height=\"125\" width=\"125\" y=\"15\" x=\"0\" stroke-width=\"0\" fill=\"#005fbf\"/>\n",
    "        <rect stroke= \"#000\" id=\"svg_2\" height=\"25\" width=\"375\" y=\"115\" x=\"125\" stroke-opacity=\"null\" stroke-width=\"0\" fill=\"#005fbf\"/>\n",
    "        <rect stroke= \"#000\" id=\"svg_3\" height=\"25\" width=\"375\" y=\"15\" x=\"125\" fill-opacity=\"null\" stroke-opacity=\"null\" stroke-width=\"0\" fill=\"#005fbf\"/>\n",
    "        <rect stroke= \"#000\" id=\"svg_5\" height=\"25\" width=\"375\" y=\"65\" x=\"125\" stroke-opacity=\"null\" stroke-width=\"0\" fill=\"#005fbf\"/>\n",
    "        <rect stroke= \"#000\" id=\"svg_6\" height=\"25\" width=\"125\" y=\"65\" x=\"0\" stroke-opacity=\"null\" stroke-width=\"0\" fill=\"#ffffff\"/>\n",
    "        <rect stroke= \"#000\" id=\"svg_7\" height=\"125\" width=\"25\" y=\"15\" x=\"50\" fill-opacity=\"null\" stroke-opacity=\"null\" stroke-width=\"0\" fill=\"#ffffff\"/>\n",
    "        <rect stroke= \"#000\" id=\"svg_11\" height=\"25\" width=\"500\" y=\"165\" x=\"0\" stroke-opacity=\"null\" stroke-width=\"0\" fill=\"#005fbf\"/>\n",
    "        <rect stroke= \"#000\" id=\"svg_12\" height=\"25\" width=\"500\" y=\"215\" x=\"0\" stroke-opacity=\"null\" stroke-width=\"0\" fill=\"#005fbf\"/>\n",
    "    </g>\n",
    "</svg>"
   ]
  },
  {
   "cell_type": "code",
   "execution_count": 4,
   "metadata": {},
   "outputs": [
    {
     "name": "stdout",
     "output_type": "stream",
     "text": [
      "122\n",
      "13 + 109 = 122\n"
     ]
    }
   ],
   "source": [
    "import math\n",
    "def IsSimple(n):\n",
    "    if n in (1,2,3):\n",
    "        return True\n",
    "    else:\n",
    "        for i in range(2, int(math.sqrt(n))+1):\n",
    "                       if n % i == 0:\n",
    "                           return False\n",
    "    return True\n",
    "                       \n",
    "data = input()\n",
    "if data.isdigit():\n",
    "    M = int(data)\n",
    "    if M < 4 or M % 2 != 0:\n",
    "        print(\"Wrong M\")\n",
    "    else:\n",
    "        for k in range(1,M):\n",
    "            if IsSimple(k) and IsSimple(M-k):\n",
    "                print(k,\"+\",M-k,\"=\",M)\n",
    "                break\n",
    "else:\n",
    "    print(\"M is not Digit\")"
   ]
  },
  {
   "cell_type": "code",
   "execution_count": 5,
   "metadata": {},
   "outputs": [
    {
     "name": "stdout",
     "output_type": "stream",
     "text": [
      "122a\n",
      "M is not Digit\n"
     ]
    }
   ],
   "source": [
    "import math\n",
    "def IsSimple(n):\n",
    "    if n in (1,2,3):\n",
    "        return True\n",
    "    else:\n",
    "        for i in range(2, int(math.sqrt(n))+1):\n",
    "                       if n % i == 0:\n",
    "                           return False\n",
    "    return True\n",
    "                       \n",
    "data = input()\n",
    "if data.isdigit():\n",
    "    M = int(data)\n",
    "    if M < 4 or M % 2 != 0:\n",
    "        print(\"Wrong M\")\n",
    "    else:\n",
    "        for k in range(1,M):\n",
    "            if IsSimple(k) and IsSimple(M-k):\n",
    "                print(k,\"+\",M-k,\"=\",M)\n",
    "                break\n",
    "else:\n",
    "    print(\"M is not Digit\")"
   ]
  },
  {
   "cell_type": "code",
   "execution_count": 6,
   "metadata": {},
   "outputs": [
    {
     "name": "stdout",
     "output_type": "stream",
     "text": [
      "133\n",
      "Wrong M\n"
     ]
    }
   ],
   "source": [
    "import math\n",
    "def IsSimple(n):\n",
    "    if n in (1,2,3):\n",
    "        return True\n",
    "    else:\n",
    "        for i in range(2, int(math.sqrt(n))+1):\n",
    "                       if n % i == 0:\n",
    "                           return False\n",
    "    return True\n",
    "                       \n",
    "data = input()\n",
    "if data.isdigit():\n",
    "    M = int(data)\n",
    "    if M < 4 or M % 2 != 0:\n",
    "        print(\"Wrong M\")\n",
    "    else:\n",
    "        for k in range(1,M):\n",
    "            if IsSimple(k) and IsSimple(M-k):\n",
    "                print(k,\"+\",M-k,\"=\",M)\n",
    "                break\n",
    "else:\n",
    "    print(\"M is not Digit\")"
   ]
  },
  {
   "cell_type": "code",
   "execution_count": null,
   "metadata": {},
   "outputs": [],
   "source": []
  }
 ],
 "metadata": {
  "kernelspec": {
   "display_name": "Python 3",
   "language": "python",
   "name": "python3"
  },
  "language_info": {
   "codemirror_mode": {
    "name": "ipython",
    "version": 3
   },
   "file_extension": ".py",
   "mimetype": "text/x-python",
   "name": "python",
   "nbconvert_exporter": "python",
   "pygments_lexer": "ipython3",
   "version": "3.8.3"
  }
 },
 "nbformat": 4,
 "nbformat_minor": 4
}
